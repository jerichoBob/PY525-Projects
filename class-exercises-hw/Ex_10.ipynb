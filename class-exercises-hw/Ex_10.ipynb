{
  "cells": [
    {
      "cell_type": "markdown",
      "id": "969a11d4",
      "metadata": {
        "id": "969a11d4"
      },
      "source": [
        "# PY525 Fall 2023 - Activity 10"
      ]
    },
    {
      "cell_type": "markdown",
      "id": "5b0bfce5",
      "metadata": {
        "id": "5b0bfce5"
      },
      "source": [
        "## Sparse matrix operations"
      ]
    },
    {
      "cell_type": "markdown",
      "id": "2eed768d",
      "metadata": {
        "id": "2eed768d"
      },
      "source": [
        "In this exercise, we implement some basic algorithms for sparse matrices in order to solidify some of the material presented in the lecture.  Specifically, we look at the COO and CSR formats that were discussed in detail."
      ]
    },
    {
      "cell_type": "markdown",
      "id": "d7ea5720",
      "metadata": {
        "id": "d7ea5720"
      },
      "source": [
        "While in actual aplications it is in general highly recommened to use an established library implementation such as `scipy.sparse`, here we look at direct implementations of the basic data structures."
      ]
    },
    {
      "cell_type": "markdown",
      "id": "85a10f9e",
      "metadata": {
        "id": "85a10f9e"
      },
      "source": [
        "In order to have a definite example to work with, consider the following sample matrix with size 10x10, given in COO format as three individual lists:"
      ]
    },
    {
      "cell_type": "code",
      "execution_count": 1,
      "id": "ff04ca7a",
      "metadata": {
        "id": "ff04ca7a"
      },
      "outputs": [],
      "source": [
        "import numpy as np\n",
        "from collections import OrderedDict"
      ]
    },
    {
      "cell_type": "code",
      "execution_count": 2,
      "id": "1997136a",
      "metadata": {
        "id": "1997136a"
      },
      "outputs": [],
      "source": [
        "rs = [0, 0, 2, 3, 4, 3, 9, 8]\n",
        "cs = [0, 4, 1, 3, 5, 1, 7, 8]\n",
        "vs = [2.0, -1.0, 3.0, 5.0, -1.0, 4.0, 2.0, -8.0]\n",
        "vec = [1, 2, 3,4,5,6,7,8,9,10]\n",
        "shape=(10,10)"
      ]
    },
    {
      "cell_type": "markdown",
      "id": "c9954712",
      "metadata": {
        "id": "c9954712"
      },
      "source": [
        "*(a)* Write a class that wraps a COO sparse matrix in the format given above.  It should store the data internally as `numpy` arrays."
      ]
    },
    {
      "cell_type": "code",
      "execution_count": 3,
      "id": "yYKyMqiRsgJ_",
      "metadata": {
        "id": "yYKyMqiRsgJ_"
      },
      "outputs": [],
      "source": [
        "class COOMatrix:\n",
        "    def __init__(self, shape, rs, cs, vs, arr=[[]]):\n",
        "      self._shape = shape\n",
        "      self._rs = np.array(rs)\n",
        "      self._cs = np.array(cs)\n",
        "      self._vs = np.array(vs)\n",
        "      self._arr = np.array(arr)\n",
        "\n",
        "   # --- shape -----------------------------------------------\n",
        "    @property\n",
        "    def shape(self):\n",
        "        \"\"\"Get the 'shape' property.\"\"\"\n",
        "        return self._shape\n",
        "\n",
        "    @shape.setter\n",
        "    def shape(self, value):\n",
        "        self._shape = value\n",
        "\n",
        "    @shape.deleter\n",
        "    def shape(self):\n",
        "        del self._shape\n",
        "   # --- rs -----------------------------------------------\n",
        "    @property\n",
        "    def rs(self):\n",
        "        \"\"\"Get the 'rs' property.\"\"\"\n",
        "        return self._rs\n",
        "\n",
        "    @rs.setter\n",
        "    def rs(self, value):\n",
        "        self._rs = np.array(value)\n",
        "\n",
        "    @rs.deleter\n",
        "    def rs(self):\n",
        "        del self._rs\n",
        "# --- cs -----------------------------------------------\n",
        "    @property\n",
        "    def cs(self):\n",
        "        \"\"\"Get the 'cs' property.\"\"\"\n",
        "        return self._cs\n",
        "\n",
        "    @cs.setter\n",
        "    def cs(self, value):\n",
        "        self._cs = np.array(value)\n",
        "\n",
        "    @cs.deleter\n",
        "    def cs(self):\n",
        "        del self._cs\n",
        "# --- vs -----------------------------------------------\n",
        "    @property\n",
        "    def vs(self):\n",
        "        \"\"\"Get the 'vs' property.\"\"\"\n",
        "        return self._vs\n",
        "\n",
        "    @vs.setter\n",
        "    def vs(self, value):\n",
        "        self._vs = np.array(value)\n",
        "\n",
        "    @vs.deleter\n",
        "    def vs(self):\n",
        "        del self._vs\n",
        "\n",
        "    def extend(self, arr, size):\n",
        "      \"\"\" extend arr to length 'size'\"\"\"\n",
        "      if not isinstance(arr, np.ndarray): arr = np.array(arr)\n",
        "      add_cnt = size - len(arr)\n",
        "      some_zeros = np.zeros(add_cnt)\n",
        "      new_arr = np.append(arr, some_zeros)\n",
        "      return new_arr\n",
        "\n",
        "    def array(self):\n",
        "      self._arr = np.zeros(self._shape)\n",
        "      samps = len(self._vs)\n",
        "      for i in range(samps):\n",
        "        r = self._rs[i]\n",
        "        c = self._cs[i]\n",
        "        self._arr[r, c] = self._vs[i]\n",
        "        # print(f\"arr[{r},{c}] = {self._vs[i]}\")\n",
        "      return self._arr\n",
        "\n",
        "# --- arr -----------------------------------------------\n",
        "    @property\n",
        "    def arr(self):\n",
        "        \"\"\"Get the 'arr' property.\"\"\"\n",
        "        return self._arr\n",
        "\n",
        "    @arr.setter\n",
        "    def arr(self, value):\n",
        "        self._arr = np.array(value)\n",
        "\n",
        "    @arr.deleter\n",
        "    def arr(self):\n",
        "        del self._arr\n",
        "\n",
        "    def Wrap(self):\n",
        "      COO_Matrix = ([[self.rs], [self.cs], [self.vs]])\n",
        "      return COO_Matrix\n",
        "\n",
        "    def apply(self, _vec):\n",
        "      vec = self.extend(_vec, self._shape[1])\n",
        "      res = np.zeros(np.shape(vec))\n",
        "      # print(\"rs: \", rs)\n",
        "      # print(\"cs: \", cs)\n",
        "      # print(\"vs: \", vs)\n",
        "      # print(\"vec:\", vec)\n",
        "      # print(f\"res: {res}\")\n",
        "      # print(\"-\"*50)\n",
        "      samps = len(vs)\n",
        "\n",
        "      for ii, r in enumerate(rs):\n",
        "        c = cs[ii]\n",
        "        # print(f\"({r},{c})\")\n",
        "        res[r] += vec[c]* vs[ii]\n",
        "        # print(f\"res[{r}] += vec[{r}]* vs[{c}]: = {vec[c]} * {vs[ii]}\")\n",
        "        # print(f\"res: {res}\")\n",
        "        # print(\"-\"*50)\n",
        "      return res\n"
      ]
    },
    {
      "cell_type": "code",
      "execution_count": 8,
      "id": "YVkKSDjutvHD",
      "metadata": {
        "colab": {
          "base_uri": "https://localhost:8080/"
        },
        "id": "YVkKSDjutvHD",
        "outputId": "87deb1fd-df0e-4d11-f569-c22415a20a18"
      },
      "outputs": [
        {
          "name": "stdout",
          "output_type": "stream",
          "text": [
            "result:  [ -3.   0.   6.  28.  -6.   0.   0.   0. -72.  16.]\n"
          ]
        }
      ],
      "source": [
        "\n",
        "coo = COOMatrix(shape, rs, cs, vs)\n",
        "coo.array()\n",
        "# print(\"arr\")\n",
        "# print(coo.arr)\n",
        "# print(\"=\"*50)\n",
        "vec = [1,2,3,4,5,6,7,8,9,10]\n",
        "ans = coo.apply(vec)\n",
        "print(\"result: \", ans)"
      ]
    },
    {
      "cell_type": "markdown",
      "id": "dcc9bd29",
      "metadata": {
        "id": "dcc9bd29"
      },
      "source": [
        "*(b)* Add to the class from part (a) a method `apply` that applies the matrix to a vector and returns a new vector."
      ]
    },
    {
      "cell_type": "code",
      "execution_count": 9,
      "id": "9762985f",
      "metadata": {
        "id": "9762985f"
      },
      "outputs": [],
      "source": [
        "# See above"
      ]
    },
    {
      "cell_type": "markdown",
      "id": "60795e32",
      "metadata": {
        "id": "60795e32"
      },
      "source": [
        "*(c)* Now write another class that wraps a sparse matrix in CSR format.  It should feature two constructors, one that accepts a `COOMatrix`, and one that accepts the bare COO data.  *In particular, manually implement the COO to CSR conversion.*"
      ]
    },
    {
      "cell_type": "code",
      "execution_count": 19,
      "metadata": {},
      "outputs": [],
      "source": [
        "class CSRMatrix():\n",
        "  \"\"\"\n",
        "  Holds a sparse matrix in CSR format. Can either be constructed from a COO matrix or by passing the arrays directly.\n",
        "  \"\"\"\n",
        "  def __init__(self, shape=None, rs=None, cs=None, vs=None, coo=None):\n",
        "    \"\"\" this constructor takes in the coo params, constructs a coo matrix and then converts it to csr and holds the csr params within the object created\"\"\"\n",
        "    if coo is not None:\n",
        "      self._construct_from_coo(coo)\n",
        "    else:\n",
        "      self._construct_from_params(shape, rs, cs, vs)\n",
        "\n",
        "  def _construct_from_params(self, shape, rs, cs, vs):\n",
        "    \"\"\" this constructor takes in the coo params, constructs a coo matrix and then converts it to csr and holds the csr params within the object created\"\"\"\n",
        "       \n",
        "    if not (len(vs) == len(rs) == len(cs)):\n",
        "      raise ValueError(\"vs, rs, and col arrays must be of the same length.\")\n",
        "\n",
        "    if rs is not isinstance(rs, np.ndarray): rs = np.array(rs)\n",
        "    if cs is not isinstance(cs, np.ndarray): cs = np.array(cs)\n",
        "    if vs is not isinstance(vs, np.ndarray): vs = np.array(vs)\n",
        "    \n",
        "    num_rows = shape[0]\n",
        "\n",
        "    # Sort the entries by row index (since we're CSR) using argsort\n",
        "    sorted_indices = np.argsort(rs)\n",
        "    sorted_rs = rs[sorted_indices]\n",
        "    sorted_cs = cs[sorted_indices]\n",
        "    sorted_vs = vs[sorted_indices]\n",
        "\n",
        "    values = np.array(sorted_vs)\n",
        "    col_indexes = np.array(sorted_cs)\n",
        "    row_pointers = np.zeros(num_rows + 1, dtype=int)\n",
        "\n",
        "    # Use the sorted rows to fill row_pointers - magic happens here\n",
        "    np.add.at(row_pointers, sorted_rs + 1, 1)\n",
        "    np.cumsum(row_pointers, out=row_pointers)\n",
        "\n",
        "    self._values = values\n",
        "    self._col_indexes = col_indexes\n",
        "    self._row_pointers = row_pointers\n",
        "  \n",
        "  def _construct_from_coo(cls, coo):\n",
        "    \"\"\" this 'constructor' just takes in a coo matrix, converts it to csr and holds the csr params within the object created\"\"\"\n",
        "    cls._construct_from_params(shape=coo.shape, rs=coo.rs, cs=coo.cs, vs=coo.vs)\n",
        "  \n",
        "  # --- values -----------------------------------------------\n",
        "  @property\n",
        "  def values(self):\n",
        "      \"\"\"Get the 'values' property.\"\"\"\n",
        "      return self._values\n",
        "\n",
        "  @values.setter\n",
        "  def values(self, value):\n",
        "      self._values = value\n",
        "\n",
        "  @values.deleter\n",
        "  def values(self):\n",
        "      del self._values\n",
        "# --- col_indexes -----------------------------------------------\n",
        "  @property\n",
        "  def col_indexes(self):\n",
        "      \"\"\"Get the 'col_indexes' property.\"\"\"\n",
        "      return self._col_indexes\n",
        "\n",
        "  @col_indexes.setter\n",
        "  def col_indexes(self, value):\n",
        "      self._col_indexes = value\n",
        "\n",
        "  @col_indexes.deleter\n",
        "  def col_indexes(self):\n",
        "      del self._col_indexes\n",
        "      \n",
        "# --- row_pointers -----------------------------------------------\n",
        "  @property\n",
        "  def row_pointers(self):\n",
        "      \"\"\"Get the 'row_pointers' property.\"\"\"\n",
        "      return self._row_pointers\n",
        "\n",
        "  @row_pointers.setter\n",
        "  def row_pointers(self, value):\n",
        "      self._row_pointers = value\n",
        "\n",
        "  @row_pointers.deleter\n",
        "  def row_pointers(self):\n",
        "      del self._row_pointers      \n",
        "\n",
        "  def apply(self, vector):\n",
        "    \"\"\" Applies the CSR-structured matrix to the input vector. Returns the resulting vector.\"\"\"\n",
        "    if len(vector) != self.row_pointers.size - 1:\n",
        "        raise ValueError(\"Vector size must match the number of columns of the matrix.\")\n",
        "    \n",
        "    if not isinstance(vector, np.ndarray): vector = np.array(vector)\n",
        "\n",
        "    result = np.zeros(self.row_pointers.size - 1, dtype=vector.dtype)\n",
        "    for i in range(len(result)):\n",
        "        start_index = self.row_pointers[i]\n",
        "        end_index = self.row_pointers[i + 1]\n",
        "        for j in range(start_index, end_index):\n",
        "            result[i] += self.values[j] * vector[self.col_indexes[j]]\n",
        "    return result\n",
        "\n"
      ]
    },
    {
      "cell_type": "code",
      "execution_count": 24,
      "metadata": {},
      "outputs": [
        {
          "name": "stdout",
          "output_type": "stream",
          "text": [
            "csr1: \n",
            "      vs: [ 2. -1.  3.  5.  4. -1. -8.  2.]\n",
            "      ci: [0 4 1 3 1 5 8 7]\n",
            "      rp: [0 2 2 3 5 6 6 6 6 7 8]\n",
            "\n",
            "result #1:  [ -3   0   6  28  -6   0   0   0 -72  16]\n",
            "shape: (10, 10)\n",
            "rs: [0, 0, 2, 3, 4, 3, 9, 8]\n",
            "csr2: \n",
            "      vs: [ 2. -1.  3.  5.  4. -1. -8.  2.]\n",
            "      ci: [0 4 1 3 1 5 8 7]\n",
            "      rp: [0 2 2 3 5 6 6 6 6 7 8]\n",
            "\n",
            "result #2:  [ -3   0   6  28  -6   0   0   0 -72  16]\n"
          ]
        }
      ],
      "source": [
        "# some testing::\n",
        "\n",
        "coo = COOMatrix(shape, rs, cs, vs)\n",
        "vec = [1,2,3,4,5,6,7,8,9,10]\n",
        "\n",
        "csr1 = CSRMatrix(coo=coo)\n",
        "print(f\"\"\"csr1: \n",
        "      vs: {csr1.values}\n",
        "      ci: {csr1.col_indexes}\n",
        "      rp: {csr1.row_pointers}\n",
        "\"\"\")\n",
        "res1 = csr1.apply(vec)\n",
        "print(\"result #1: \", res1)\n",
        "\n",
        "print(f\"shape: {shape}\")\n",
        "print(f\"rs: {rs}\")\n",
        "\n",
        "csr2 = CSRMatrix(shape=shape, rs=rs, cs=cs, vs=vs)\n",
        "print(f\"\"\"csr2: \n",
        "      vs: {csr1.values}\n",
        "      ci: {csr1.col_indexes}\n",
        "      rp: {csr1.row_pointers}\n",
        "\"\"\")\n",
        "res2 = csr2.apply(vec)\n",
        "print(\"result #2: \", res2)\n"
      ]
    },
    {
      "cell_type": "markdown",
      "id": "a813969c",
      "metadata": {
        "id": "a813969c"
      },
      "source": [
        "**Hints:**\n",
        "1. You really only need to implement one constructor with the heavy lifting, the other can just wrap the first one.\n",
        "2. For the COO to CSR conversion, you will need to sort the COO data.  Since the data it is managed as three individual arrays, those need to be sorted consistently.  For that, look at `numpy.argsort`."
      ]
    },
    {
      "cell_type": "markdown",
      "id": "1d8dcfec",
      "metadata": {
        "id": "1d8dcfec"
      },
      "source": [
        "*(d)* To the CSR matrix class now also add a method `apply` that impelements matrix-vector multiplication."
      ]
    },
    {
      "cell_type": "markdown",
      "id": "405eacbe",
      "metadata": {
        "id": "405eacbe"
      },
      "source": [
        "*(e)* Verify your implementations, for example by checking that the vector below is an eigenvalue of the sample matrix given above with eigenvalue $-8.0$."
      ]
    },
    {
      "cell_type": "code",
      "execution_count": 13,
      "id": "6dcb8033",
      "metadata": {
        "id": "6dcb8033"
      },
      "outputs": [
        {
          "data": {
            "text/plain": [
              "array([0., 0., 0., 0., 0., 0., 0., 0., 1., 0.])"
            ]
          },
          "execution_count": 13,
          "metadata": {},
          "output_type": "execute_result"
        }
      ],
      "source": [
        "x = np.asarray([0.0, 0.0, 0.0, 0.0, 0.0, 0.0, 0.0, 0.0, 1.0, 0.0])\n",
        "x"
      ]
    },
    {
      "cell_type": "code",
      "execution_count": null,
      "metadata": {},
      "outputs": [],
      "source": []
    }
  ],
  "metadata": {
    "colab": {
      "provenance": []
    },
    "kernelspec": {
      "display_name": "Python 3 (ipykernel)",
      "language": "python",
      "name": "python3"
    },
    "language_info": {
      "codemirror_mode": {
        "name": "ipython",
        "version": 3
      },
      "file_extension": ".py",
      "mimetype": "text/x-python",
      "name": "python",
      "nbconvert_exporter": "python",
      "pygments_lexer": "ipython3",
      "version": "3.9.5"
    }
  },
  "nbformat": 4,
  "nbformat_minor": 5
}
